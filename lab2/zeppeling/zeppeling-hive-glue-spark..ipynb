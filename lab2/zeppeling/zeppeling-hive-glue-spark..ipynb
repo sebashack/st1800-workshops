﻿{
  "metadata": {
    "name": "zeppeling-hive-glue-spark",
    "kernelspec": {
      "language": "scala",
      "name": "spark2-scala"
    },
    "language_info": {
      "codemirror_mode": "text/x-scala",
      "file_extension": ".scala",
      "mimetype": "text/x-scala",
      "name": "scala",
      "pygments_lexer": "scala"
    }
  },
  "nbformat": 4,
  "nbformat_minor": 2,
  "cells": [
    {
      "cell_type": "code",
      "execution_count": 0,
      "metadata": {
        "autoscroll": "auto"
      },
      "outputs": [],
      "source": "%spark\nimport org.apache.spark.sql.SparkSession\n\nval spark \u003d SparkSession\n  .builder()\n  .appName(\"Hive Query\")\n  .enableHiveSupport()\n  .getOrCreate()"
    },
    {
      "cell_type": "code",
      "execution_count": 1,
      "metadata": {
        "autoscroll": "auto"
      },
      "outputs": [],
      "source": "spark.sql(\"SHOW DATABASES\").show()"
    },
    {
      "cell_type": "code",
      "execution_count": 2,
      "metadata": {
        "autoscroll": "auto"
      },
      "outputs": [],
      "source": "spark.sql(\"SELECT * FROM lab2db.hdi LIMIT 10\").show()"
    }
  ]
}