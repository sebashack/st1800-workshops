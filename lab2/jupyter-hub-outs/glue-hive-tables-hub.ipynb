{
 "cells": [
  {
   "cell_type": "code",
   "execution_count": 1,
   "id": "894a05da",
   "metadata": {},
   "outputs": [
    {
     "name": "stdout",
     "output_type": "stream",
     "text": [
      "Starting Spark application\n"
     ]
    },
    {
     "data": {
      "text/html": [
       "<table>\n",
       "<tr><th>ID</th><th>YARN Application ID</th><th>Kind</th><th>State</th><th>Spark UI</th><th>Driver log</th><th>User</th><th>Current session?</th></tr><tr><td>0</td><td>application_1709669826243_0001</td><td>pyspark</td><td>idle</td><td><a target=\"_blank\" href=\"http://ip-172-31-90-70.ec2.internal:20888/proxy/application_1709669826243_0001/\">Link</a></td><td><a target=\"_blank\" href=\"http://ip-172-31-82-10.ec2.internal:8042/node/containerlogs/container_1709669826243_0001_01_000001/livy\">Link</a></td><td>None</td><td>✔</td></tr></table>"
      ],
      "text/plain": [
       "<IPython.core.display.HTML object>"
      ]
     },
     "metadata": {},
     "output_type": "display_data"
    },
    {
     "data": {
      "application/vnd.jupyter.widget-view+json": {
       "model_id": "",
       "version_major": 2,
       "version_minor": 0
      },
      "text/plain": [
       "FloatProgress(value=0.0, bar_style='info', description='Progress:', layout=Layout(height='25px', width='50%'),…"
      ]
     },
     "metadata": {},
     "output_type": "display_data"
    },
    {
     "name": "stdout",
     "output_type": "stream",
     "text": [
      "SparkSession available as 'spark'.\n"
     ]
    },
    {
     "data": {
      "application/vnd.jupyter.widget-view+json": {
       "model_id": "",
       "version_major": 2,
       "version_minor": 0
      },
      "text/plain": [
       "FloatProgress(value=0.0, bar_style='info', description='Progress:', layout=Layout(height='25px', width='50%'),…"
      ]
     },
     "metadata": {},
     "output_type": "display_data"
    },
    {
     "name": "stdout",
     "output_type": "stream",
     "text": [
      "+----+-------------+-----+------+-----+-----+-----+\n",
      "|  id|      country|  hdi|lifeex|mysch|eysch|  gni|\n",
      "+----+-------------+-----+------+-----+-----+-----+\n",
      "|null|      country| null|  null| null| null| null|\n",
      "|   1|       Norway|0.943|    81|   12|   17|47557|\n",
      "|   2|    Australia|0.929|    81|   12|   18|34431|\n",
      "|   3|  Netherlands| 0.91|    80|   11|   16|36402|\n",
      "|   4|United States| 0.91|    78|   12|   16|43017|\n",
      "|   5|  New Zealand|0.908|    80|   12|   18|23737|\n",
      "|   6|       Canada|0.908|    81|   12|   16|35166|\n",
      "|   7|      Ireland|0.908|    80|   11|   18|29322|\n",
      "|   8|Liechtenstein|0.905|    79|   10|   14|83717|\n",
      "|   9|      Germany|0.905|    80|   12|   15|34854|\n",
      "+----+-------------+-----+------+-----+-----+-----+"
     ]
    }
   ],
   "source": [
    "spark.sql(\"USE lab2db\")\n",
    "spark.sql(\"SELECT * FROM hdi LIMIT 10\").show()"
   ]
  },
  {
   "cell_type": "code",
   "execution_count": null,
   "id": "3476648c",
   "metadata": {},
   "outputs": [],
   "source": []
  }
 ],
 "metadata": {
  "kernelspec": {
   "display_name": "PySpark",
   "language": "python",
   "name": "pysparkkernel"
  },
  "language_info": {
   "codemirror_mode": {
    "name": "python",
    "version": 3
   },
   "file_extension": ".py",
   "mimetype": "text/x-python",
   "name": "pyspark",
   "pygments_lexer": "python3"
  }
 },
 "nbformat": 4,
 "nbformat_minor": 5
}
