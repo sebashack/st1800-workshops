{
 "cells": [
  {
   "cell_type": "code",
   "execution_count": 19,
   "id": "90f6b019",
   "metadata": {},
   "outputs": [
    {
     "data": {
      "application/vnd.jupyter.widget-view+json": {
       "model_id": "",
       "version_major": 2,
       "version_minor": 0
      },
      "text/plain": [
       "FloatProgress(value=0.0, bar_style='info', description='Progress:', layout=Layout(height='25px', width='50%'),…"
      ]
     },
     "metadata": {},
     "output_type": "display_data"
    },
    {
     "name": "stdout",
     "output_type": "stream",
     "text": [
      "+-----------+----+----+----------------+\n",
      "|     entity|code|year|annual_emissions|\n",
      "+-----------+----+----+----------------+\n",
      "|Afghanistan| AFG|1949|           14656|\n",
      "|Afghanistan| AFG|1950|           84272|\n",
      "|Afghanistan| AFG|1951|           91600|\n",
      "|Afghanistan| AFG|1952|           91600|\n",
      "|Afghanistan| AFG|1953|          106256|\n",
      "|Afghanistan| AFG|1954|          106256|\n",
      "|Afghanistan| AFG|1955|          153888|\n",
      "|Afghanistan| AFG|1956|          183200|\n",
      "|Afghanistan| AFG|1957|          293120|\n",
      "|Afghanistan| AFG|1958|          329760|\n",
      "|Afghanistan| AFG|1959|       384571.42|\n",
      "|Afghanistan| AFG|1960|       413883.42|\n",
      "|Afghanistan| AFG|1961|        490797.7|\n",
      "|Afghanistan| AFG|1962|       688594.27|\n",
      "|Afghanistan| AFG|1963|       706735.98|\n",
      "|Afghanistan| AFG|1964|       838550.83|\n",
      "|Afghanistan| AFG|1965|      1006916.53|\n",
      "|Afghanistan| AFG|1966|      1091158.82|\n",
      "|Afghanistan| AFG|1967|      1281865.11|\n",
      "|Afghanistan| AFG|1968|      1223389.69|\n",
      "+-----------+----+----+----------------+\n",
      "only showing top 20 rows\n",
      "\n",
      "+----------+-------------------+-----------------------------+-------+\n",
      "|        dt| AverageTemperature|AverageTemperatureUncertainty|Country|\n",
      "+----------+-------------------+-----------------------------+-------+\n",
      "|1743-11-01| 4.3839999999999995|                        2.294|  Åland|\n",
      "|1743-12-01|               null|                         null|  Åland|\n",
      "|1744-01-01|               null|                         null|  Åland|\n",
      "|1744-02-01|               null|                         null|  Åland|\n",
      "|1744-03-01|               null|                         null|  Åland|\n",
      "|1744-04-01|               1.53|                         4.68|  Åland|\n",
      "|1744-05-01|  6.702000000000001|                        1.789|  Åland|\n",
      "|1744-06-01| 11.609000000000002|                        1.577|  Åland|\n",
      "|1744-07-01|             15.342|                         1.41|  Åland|\n",
      "|1744-08-01|               null|                         null|  Åland|\n",
      "|1744-09-01|             11.702|                        1.517|  Åland|\n",
      "|1744-10-01|              5.477|                        1.862|  Åland|\n",
      "|1744-11-01|              3.407|                        1.425|  Åland|\n",
      "|1744-12-01|             -2.181|                        1.641|  Åland|\n",
      "|1745-01-01|              -3.85|                        1.841|  Åland|\n",
      "|1745-02-01| -6.574999999999998|                         1.36|  Åland|\n",
      "|1745-03-01|             -4.195|                        1.213|  Åland|\n",
      "|1745-04-01|-0.9660000000000002|                        1.172|  Åland|\n",
      "|1745-05-01|               null|                         null|  Åland|\n",
      "|1745-06-01|               null|                         null|  Åland|\n",
      "+----------+-------------------+-----------------------------+-------+\n",
      "only showing top 20 rows"
     ]
    }
   ],
   "source": [
    "df_emissions = spark.read.option(\"header\", \"true\").csv(\"s3://spulido1st1800241/co2_emissions/co2_emission.csv\")\n",
    "df_temperature = spark.read.option(\"header\", \"true\").csv(\"s3://spulido1st1800241/land-temperature-by-country/GlobalLandTemperaturesByCountry.csv\")\n",
    "\n",
    "df_emissions.show()\n",
    "df_temperature.show()"
   ]
  },
  {
   "cell_type": "code",
   "execution_count": 20,
   "id": "0d6ff561",
   "metadata": {},
   "outputs": [
    {
     "data": {
      "application/vnd.jupyter.widget-view+json": {
       "model_id": "",
       "version_major": 2,
       "version_minor": 0
      },
      "text/plain": [
       "FloatProgress(value=0.0, bar_style='info', description='Progress:', layout=Layout(height='25px', width='50%'),…"
      ]
     },
     "metadata": {},
     "output_type": "display_data"
    },
    {
     "name": "stdout",
     "output_type": "stream",
     "text": [
      "+----+--------------------+\n",
      "|year|     total_emissions|\n",
      "+----+--------------------+\n",
      "|2017|   8.947275082983E10|\n",
      "|2016|8.824961753229005E10|\n",
      "|2015|8.768654789835999E10|\n",
      "|2014|8.762096132615002E10|\n",
      "|2013|8.700744654957999E10|\n",
      "|2012|8.665079532765002E10|\n",
      "|2011|8.524360993775002E10|\n",
      "|2010|8.238109186037001E10|\n",
      "|2008|7.990947993998001E10|\n",
      "|2009|7.867301490757996E10|\n",
      "+----+--------------------+"
     ]
    }
   ],
   "source": [
    "from pyspark.sql import functions as F\n",
    "\n",
    "top_years_emissions = df_emissions.groupBy(\"year\") \\\n",
    "                        .agg(F.sum(\"annual_emissions\") \\\n",
    "                        .alias(\"total_emissions\")) \\\n",
    "                        .orderBy(F.desc(\"total_emissions\")) \\\n",
    "                        .limit(10)\n",
    "\n",
    "\n",
    "top_years_emissions.show()"
   ]
  },
  {
   "cell_type": "code",
   "execution_count": 21,
   "id": "d73c9259",
   "metadata": {},
   "outputs": [
    {
     "data": {
      "application/vnd.jupyter.widget-view+json": {
       "model_id": "",
       "version_major": 2,
       "version_minor": 0
      },
      "text/plain": [
       "FloatProgress(value=0.0, bar_style='info', description='Progress:', layout=Layout(height='25px', width='50%'),…"
      ]
     },
     "metadata": {},
     "output_type": "display_data"
    },
    {
     "name": "stdout",
     "output_type": "stream",
     "text": [
      "+--------------------+-------------------+\n",
      "|             Country|average_temperature|\n",
      "+--------------------+-------------------+\n",
      "|            Djibouti| 28.816602533172542|\n",
      "|                Mali| 28.441976570819996|\n",
      "|        Burkina Faso| 28.083506760410998|\n",
      "|             Senegal|  27.96737499999997|\n",
      "|               Aruba|  27.92039022051774|\n",
      "|United Arab Emirates| 27.693994700582884|\n",
      "|          Mauritania| 27.620255504352293|\n",
      "|              Gambia| 27.538551816239316|\n",
      "|               Niger| 27.458972540045757|\n",
      "|             Curaçao| 27.353414669223397|\n",
      "+--------------------+-------------------+"
     ]
    }
   ],
   "source": [
    "hottest_countries_all_years = df_temperature.groupBy(\"Country\") \\\n",
    "    .agg(F.avg(\"AverageTemperature\").alias(\"average_temperature\")) \\\n",
    "    .orderBy(F.desc(\"average_temperature\")).limit(10)\n",
    "\n",
    "\n",
    "hottest_countries_all_years.show()"
   ]
  },
  {
   "cell_type": "code",
   "execution_count": 22,
   "id": "1cd37e5a",
   "metadata": {},
   "outputs": [
    {
     "data": {
      "application/vnd.jupyter.widget-view+json": {
       "model_id": "",
       "version_major": 2,
       "version_minor": 0
      },
      "text/plain": [
       "FloatProgress(value=0.0, bar_style='info', description='Progress:', layout=Layout(height='25px', width='50%'),…"
      ]
     },
     "metadata": {},
     "output_type": "display_data"
    },
    {
     "name": "stdout",
     "output_type": "stream",
     "text": [
      "+----+-------------------+\n",
      "|year|average_temperature|\n",
      "+----+-------------------+\n",
      "|2013| 19.877007153806858|\n",
      "|2010| 19.629806129476588|\n",
      "|2007|  19.61039428374656|\n",
      "|1998| 19.596783057851248|\n",
      "|2002| 19.565523415977967|\n",
      "|2009|  19.54638533057848|\n",
      "|2006|   19.5391349862259|\n",
      "|2003|   19.5250867768595|\n",
      "|2005| 19.499590220385706|\n",
      "|2012|   19.4687441460055|\n",
      "+----+-------------------+"
     ]
    }
   ],
   "source": [
    "hottest_years = df_temperature.withColumn(\"year\", F.year(F.to_date(\"dt\", \"yyyy-MM-dd\"))) \\\n",
    "    .groupBy(\"year\") \\\n",
    "    .agg(F.avg(\"AverageTemperature\").alias(\"average_temperature\")) \\\n",
    "    .orderBy(F.desc(\"average_temperature\")) \\\n",
    "    .limit(10)\n",
    "\n",
    "\n",
    "hottest_years.show()"
   ]
  },
  {
   "cell_type": "code",
   "execution_count": 23,
   "id": "c2cd41a3",
   "metadata": {},
   "outputs": [
    {
     "data": {
      "application/vnd.jupyter.widget-view+json": {
       "model_id": "",
       "version_major": 2,
       "version_minor": 0
      },
      "text/plain": [
       "FloatProgress(value=0.0, bar_style='info', description='Progress:', layout=Layout(height='25px', width='50%'),…"
      ]
     },
     "metadata": {},
     "output_type": "display_data"
    },
    {
     "name": "stdout",
     "output_type": "stream",
     "text": [
      "+--------------------+------------------------+\n",
      "|              entity|average_annual_emissions|\n",
      "+--------------------+------------------------+\n",
      "|               World|     5.899791376895131E9|\n",
      "|              Russia|    1.7049000668898306E9|\n",
      "|       United States|    1.4957990314644194E9|\n",
      "|               EU-28|     1.321566501059925E9|\n",
      "|               China|     7.879389530948819E8|\n",
      "|Asia and Pacific ...|     6.668811690486891E8|\n",
      "|      Europe (other)|     5.900381650936329E8|\n",
      "|             Ukraine|    4.3722688639152545E8|\n",
      "|               Japan|    4.1536405464533335E8|\n",
      "|             Germany|    4.0073287623141575E8|\n",
      "+--------------------+------------------------+"
     ]
    }
   ],
   "source": [
    "countries_with_highest_avg_emissions = df_emissions.groupBy(\"entity\") \\\n",
    "    .agg(F.avg(\"annual_emissions\").alias(\"average_annual_emissions\")) \\\n",
    "    .orderBy(F.desc(\"average_annual_emissions\")).limit(10)\n",
    "\n",
    "\n",
    "countries_with_highest_avg_emissions.show()"
   ]
  },
  {
   "cell_type": "code",
   "execution_count": 26,
   "id": "cf96cb22",
   "metadata": {},
   "outputs": [
    {
     "data": {
      "application/vnd.jupyter.widget-view+json": {
       "model_id": "",
       "version_major": 2,
       "version_minor": 0
      },
      "text/plain": [
       "FloatProgress(value=0.0, bar_style='info', description='Progress:', layout=Layout(height='25px', width='50%'),…"
      ]
     },
     "metadata": {},
     "output_type": "display_data"
    },
    {
     "name": "stdout",
     "output_type": "stream",
     "text": [
      "+--------------+------------------------+-------------------+\n",
      "|       country|average_annual_emissions|average_temperature|\n",
      "+--------------+------------------------+-------------------+\n",
      "|        Russia|    1.7072645889497716E9|-4.7807027439024425|\n",
      "| United States|    1.5359203697698061E9|  8.603572522159553|\n",
      "|         China|     8.803365430384828E8|   6.63357261613691|\n",
      "|       Ukraine|     4.528754742027375E8|  8.359509146341464|\n",
      "|       Germany|     3.930806270675309E8|   8.18554135338344|\n",
      "|         Japan|     3.916217583245287E8| 12.044405606407325|\n",
      "|United Kingdom|     2.866108890654621E8|  8.491605346912824|\n",
      "|        Africa|    2.2951465119022956E8|  24.07420274551212|\n",
      "|    Kazakhstan|     2.036414017164386E8| 6.0926646341463435|\n",
      "|   South Korea|     1.927339258113457E8| 12.320580097087376|\n",
      "+--------------+------------------------+-------------------+"
     ]
    }
   ],
   "source": [
    "df_emissions = df_emissions.withColumn(\"year\", df_emissions[\"year\"].cast(\"integer\"))\n",
    "df_temperature = df_temperature.withColumn(\"dt\", F.to_date(df_temperature[\"dt\"], 'yyyy-MM-dd'))\n",
    "\n",
    "joined_df = df_emissions.join(df_temperature, (df_emissions.entity == df_temperature.Country) & \n",
    "                              (df_emissions.year == F.year(df_temperature.dt)))\n",
    "\n",
    "result_df = joined_df.groupBy(df_emissions.entity.alias(\"country\"))\\\n",
    "                     .agg(F.avg(\"annual_emissions\").alias(\"average_annual_emissions\"),\n",
    "                          F.avg(\"averagetemperature\").alias(\"average_temperature\"))\\\n",
    "                     .orderBy(F.desc(\"average_annual_emissions\"))\\\n",
    "                     .limit(10)\n",
    "\n",
    "result_df.show()"
   ]
  },
  {
   "cell_type": "code",
   "execution_count": 27,
   "id": "867ad483",
   "metadata": {},
   "outputs": [
    {
     "data": {
      "application/vnd.jupyter.widget-view+json": {
       "model_id": "",
       "version_major": 2,
       "version_minor": 0
      },
      "text/plain": [
       "FloatProgress(value=0.0, bar_style='info', description='Progress:', layout=Layout(height='25px', width='50%'),…"
      ]
     },
     "metadata": {},
     "output_type": "display_data"
    },
    {
     "name": "stdout",
     "output_type": "stream",
     "text": [
      "+--------------------+------------------------+-------------------+\n",
      "|             country|average_annual_emissions|average_temperature|\n",
      "+--------------------+------------------------+-------------------+\n",
      "|                Niue|       5066.788571428571|  25.53457824427485|\n",
      "|          Montserrat|      25665.700483091787| 26.893069354838705|\n",
      "|            Kiribati|      30822.748815165876|  27.11393987341773|\n",
      "|            Dominica|       52960.12749003984| 26.586035904255326|\n",
      "|               Tonga|       53465.66274509804| 23.577045811518325|\n",
      "|             Comoros|       63643.17808219178| 26.080251524390267|\n",
      "|British Virgin Is...|       70023.11111111111|  26.83983091787443|\n",
      "|               Samoa|        86757.7725490196|  26.64870026178011|\n",
      "|    Christmas Island|       95002.28571428571| 26.078083333333346|\n",
      "|             Grenada|       97433.66274509804| 27.213242146596894|\n",
      "+--------------------+------------------------+-------------------+"
     ]
    }
   ],
   "source": [
    "df_emissions = df_emissions.withColumn(\"year\", df_emissions[\"year\"].cast(\"integer\"))\n",
    "df_temperature = df_temperature.withColumn(\"dt\", F.to_date(df_temperature[\"dt\"], 'yyyy-MM-dd'))\n",
    "\n",
    "joined_df = df_emissions.join(df_temperature, (df_emissions.entity == df_temperature.Country) & \n",
    "                              (df_emissions.year == F.year(df_temperature.dt)))\n",
    "\n",
    "result_df = joined_df.groupBy(df_emissions.entity.alias(\"country\"))\\\n",
    "                     .agg(F.avg(\"annual_emissions\").alias(\"average_annual_emissions\"),\n",
    "                          F.avg(\"averagetemperature\").alias(\"average_temperature\"))\\\n",
    "                     .orderBy(F.asc(\"average_annual_emissions\"))\\\n",
    "                     .limit(10)\n",
    "\n",
    "result_df.show()"
   ]
  },
  {
   "cell_type": "code",
   "execution_count": 28,
   "id": "82e7bdce",
   "metadata": {},
   "outputs": [
    {
     "data": {
      "application/vnd.jupyter.widget-view+json": {
       "model_id": "",
       "version_major": 2,
       "version_minor": 0
      },
      "text/plain": [
       "FloatProgress(value=0.0, bar_style='info', description='Progress:', layout=Layout(height='25px', width='50%'),…"
      ]
     },
     "metadata": {},
     "output_type": "display_data"
    },
    {
     "name": "stdout",
     "output_type": "stream",
     "text": [
      "+--------------------+------------------------+-------------------+\n",
      "|             country|average_annual_emissions|average_temperature|\n",
      "+--------------------+------------------------+-------------------+\n",
      "|            Djibouti|       250946.1462352942|  29.08503010471201|\n",
      "|                Mali|       489513.2796347031| 28.887868902439017|\n",
      "|        Burkina Faso|       674113.4111210774|  28.50503892215568|\n",
      "|             Senegal|       3060232.469315066| 28.429446646341475|\n",
      "|               Aruba|      1285447.9788127847| 28.397669207317065|\n",
      "|United Arab Emirates|    5.8651823794703156E7| 28.211400914634176|\n",
      "|          Mauritania|       969136.3652968036| 28.097750000000016|\n",
      "|              Gambia|      152451.13725490196| 27.906327225130873|\n",
      "|               Niger|        622252.244080717|  27.83997455089821|\n",
      "|               Palau|       166984.8510638298|  27.56056107954545|\n",
      "+--------------------+------------------------+-------------------+"
     ]
    }
   ],
   "source": [
    "df_emissions = df_emissions.withColumn(\"year\", df_emissions[\"year\"].cast(\"integer\"))\n",
    "df_temperature = df_temperature.withColumn(\"dt\", F.to_date(df_temperature[\"dt\"], 'yyyy-MM-dd'))\n",
    "\n",
    "joined_df = df_emissions.join(df_temperature, (df_emissions.entity == df_temperature.Country) & \n",
    "                              (df_emissions.year == F.year(df_temperature.dt)))\n",
    "\n",
    "result_df = joined_df.groupBy(df_emissions.entity.alias(\"country\"))\\\n",
    "                     .agg(F.avg(\"annual_emissions\").alias(\"average_annual_emissions\"),\n",
    "                          F.avg(\"averagetemperature\").alias(\"average_temperature\"))\\\n",
    "                     .orderBy(F.desc(\"average_temperature\"))\\\n",
    "                     .limit(10)\n",
    "\n",
    "result_df.show()"
   ]
  },
  {
   "cell_type": "code",
   "execution_count": 29,
   "id": "c074a24d",
   "metadata": {},
   "outputs": [
    {
     "data": {
      "application/vnd.jupyter.widget-view+json": {
       "model_id": "",
       "version_major": 2,
       "version_minor": 0
      },
      "text/plain": [
       "FloatProgress(value=0.0, bar_style='info', description='Progress:', layout=Layout(height='25px', width='50%'),…"
      ]
     },
     "metadata": {},
     "output_type": "display_data"
    },
    {
     "name": "stdout",
     "output_type": "stream",
     "text": [
      "+----------+------------------------+-------------------+\n",
      "|   country|average_annual_emissions|average_temperature|\n",
      "+----------+------------------------+-------------------+\n",
      "| Greenland|       438429.9294117647|-18.089484293193717|\n",
      "|   Denmark|     2.246963978358721E7|-18.000785644531284|\n",
      "|    Canada|    1.2899122241300549E8|-5.2000344112769445|\n",
      "|    Russia|    1.7072645889497716E9|-4.7807027439024425|\n",
      "|  Mongolia|       6697050.589333336|-0.1202643979057595|\n",
      "|    Norway|    1.3186810988514472E7|0.18958486238532107|\n",
      "|   Finland|    1.8644064125252075E7| 1.4474734273318848|\n",
      "|   Iceland|      1694371.3012709017| 1.8720033482142833|\n",
      "|    Sweden|     2.661082450093876E7| 2.5144833965844433|\n",
      "|Kyrgyzstan|       6422252.760574727| 4.3928884615384645|\n",
      "+----------+------------------------+-------------------+"
     ]
    }
   ],
   "source": [
    "df_emissions = df_emissions.withColumn(\"year\", df_emissions[\"year\"].cast(\"integer\"))\n",
    "df_temperature = df_temperature.withColumn(\"dt\", F.to_date(df_temperature[\"dt\"], 'yyyy-MM-dd'))\n",
    "\n",
    "joined_df = df_emissions.join(df_temperature, (df_emissions.entity == df_temperature.Country) & \n",
    "                              (df_emissions.year == F.year(df_temperature.dt)))\n",
    "\n",
    "result_df = joined_df.groupBy(df_emissions.entity.alias(\"country\"))\\\n",
    "                     .agg(F.avg(\"annual_emissions\").alias(\"average_annual_emissions\"),\n",
    "                          F.avg(\"averagetemperature\").alias(\"average_temperature\"))\\\n",
    "                     .orderBy(F.asc(\"average_temperature\"))\\\n",
    "                     .limit(10)\n",
    "\n",
    "result_df.show()"
   ]
  },
  {
   "cell_type": "code",
   "execution_count": null,
   "id": "80f4fa80",
   "metadata": {},
   "outputs": [],
   "source": []
  }
 ],
 "metadata": {
  "kernelspec": {
   "display_name": "PySpark",
   "language": "python",
   "name": "pysparkkernel"
  },
  "language_info": {
   "codemirror_mode": {
    "name": "python",
    "version": 3
   },
   "file_extension": ".py",
   "mimetype": "text/x-python",
   "name": "pyspark",
   "pygments_lexer": "python3"
  }
 },
 "nbformat": 4,
 "nbformat_minor": 5
}
