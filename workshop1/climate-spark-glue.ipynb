{
 "cells": [
  {
   "cell_type": "code",
   "execution_count": 18,
   "id": "fd3b8950",
   "metadata": {},
   "outputs": [
    {
     "data": {
      "application/vnd.jupyter.widget-view+json": {
       "model_id": "",
       "version_major": 2,
       "version_minor": 0
      },
      "text/plain": [
       "FloatProgress(value=0.0, bar_style='info', description='Progress:', layout=Layout(height='25px', width='50%'),…"
      ]
     },
     "metadata": {},
     "output_type": "display_data"
    },
    {
     "name": "stdout",
     "output_type": "stream",
     "text": [
      "+-----------+----+----+----------------+\n",
      "|     entity|code|year|annual_emissions|\n",
      "+-----------+----+----+----------------+\n",
      "|Afghanistan| AFG|1949|         14656.0|\n",
      "|Afghanistan| AFG|1950|         84272.0|\n",
      "|Afghanistan| AFG|1951|         91600.0|\n",
      "|Afghanistan| AFG|1952|         91600.0|\n",
      "|Afghanistan| AFG|1953|        106256.0|\n",
      "+-----------+----+----+----------------+"
     ]
    }
   ],
   "source": [
    "spark.sql(\"USE climate_db\")\n",
    "spark.sql(\"SELECT * FROM co2_emissions WHERE annual_emissions IS NOT NULL LIMIT 5\").show()"
   ]
  },
  {
   "cell_type": "code",
   "execution_count": 19,
   "id": "d34e58c3",
   "metadata": {},
   "outputs": [
    {
     "data": {
      "application/vnd.jupyter.widget-view+json": {
       "model_id": "",
       "version_major": 2,
       "version_minor": 0
      },
      "text/plain": [
       "FloatProgress(value=0.0, bar_style='info', description='Progress:', layout=Layout(height='25px', width='50%'),…"
      ]
     },
     "metadata": {},
     "output_type": "display_data"
    },
    {
     "name": "stdout",
     "output_type": "stream",
     "text": [
      "+----------+------------------+-----------------------------+-------+\n",
      "|        dt|averagetemperature|averagetemperatureuncertainty|country|\n",
      "+----------+------------------+-----------------------------+-------+\n",
      "|1743-11-01|4.3839999999999995|                        2.294|  Åland|\n",
      "|1744-04-01|              1.53|                         4.68|  Åland|\n",
      "|1744-05-01| 6.702000000000001|                        1.789|  Åland|\n",
      "|1744-06-01|11.609000000000002|                        1.577|  Åland|\n",
      "|1744-07-01|            15.342|                         1.41|  Åland|\n",
      "+----------+------------------+-----------------------------+-------+"
     ]
    }
   ],
   "source": [
    "spark.sql(\"USE climate_db\")\n",
    "spark.sql(\"SELECT * FROM land_temperature_by_country WHERE averagetemperature IS NOT NULL LIMIT 5\").show()"
   ]
  },
  {
   "cell_type": "code",
   "execution_count": 20,
   "id": "cf66f485",
   "metadata": {},
   "outputs": [
    {
     "data": {
      "application/vnd.jupyter.widget-view+json": {
       "model_id": "",
       "version_major": 2,
       "version_minor": 0
      },
      "text/plain": [
       "FloatProgress(value=0.0, bar_style='info', description='Progress:', layout=Layout(height='25px', width='50%'),…"
      ]
     },
     "metadata": {},
     "output_type": "display_data"
    },
    {
     "name": "stdout",
     "output_type": "stream",
     "text": [
      "+-----------+------------------------+-------------------+\n",
      "|    country|average_annual_emissions|average_temperature|\n",
      "+-----------+------------------------+-------------------+\n",
      "|  Argentina|     5.609340756422091E7| 14.755785526315792|\n",
      "|     Angola|       7462107.146549024| 22.149318062827223|\n",
      "|    Albania|        3117043.07120743|  12.99210020661157|\n",
      "|    Andorra|      489587.53684210527| 12.206415492957747|\n",
      "|     Bhutan|      213963.06502857138| 12.291540076335878|\n",
      "|    Armenia|        4554413.57767123|  9.288946646341461|\n",
      "|   Anguilla|      101473.51578947369| 27.405820422535207|\n",
      "|    Algeria|    3.3542769047277115E7| 23.319851286173623|\n",
      "|      Benin|       1266735.248161435| 27.538580838323348|\n",
      "|      Aruba|      1285447.9788127844| 28.397669207317072|\n",
      "|    Bahrain|       8496624.318947371| 26.295051652892564|\n",
      "|     Africa|    2.2951465119022903E8| 24.074202745512142|\n",
      "| Bangladesh|    1.8561881604109593E7|  25.28548780487806|\n",
      "| Azerbaijan|    4.2143040671461135E7| 11.947913109756097|\n",
      "|     Belize|      233863.78039215686| 25.482091503267966|\n",
      "|Afghanistan|      2020595.5150193046|  14.49147293814433|\n",
      "|    Belgium|    6.4059949454073094E7|  9.564750902527077|\n",
      "|    Bahamas|      2301116.2357647046| 25.505410457516334|\n",
      "|    Bolivia|       4375374.333994168|  21.17323540856031|\n",
      "|   Barbados|       535829.8823323615| 26.818854085603125|\n",
      "+-----------+------------------------+-------------------+\n",
      "only showing top 20 rows"
     ]
    }
   ],
   "source": [
    "spark.sql(\"\"\"\n",
    "    SELECT \n",
    "        e.entity AS country,\n",
    "        AVG(e.annual_emissions) AS average_annual_emissions,\n",
    "        AVG(t.averagetemperature) AS average_temperature\n",
    "    FROM \n",
    "        co2_emissions e\n",
    "    JOIN \n",
    "        land_temperature_by_country t ON e.entity = t.country\n",
    "        AND e.year = YEAR(t.dt)\n",
    "    GROUP BY \n",
    "        e.entity\n",
    "\"\"\").show()"
   ]
  },
  {
   "cell_type": "code",
   "execution_count": 21,
   "id": "629bb95d",
   "metadata": {},
   "outputs": [
    {
     "data": {
      "application/vnd.jupyter.widget-view+json": {
       "model_id": "",
       "version_major": 2,
       "version_minor": 0
      },
      "text/plain": [
       "FloatProgress(value=0.0, bar_style='info', description='Progress:', layout=Layout(height='25px', width='50%'),…"
      ]
     },
     "metadata": {},
     "output_type": "display_data"
    },
    {
     "name": "stdout",
     "output_type": "stream",
     "text": [
      "+--------------+------------------------+-------------------+\n",
      "|       country|average_annual_emissions|average_temperature|\n",
      "+--------------+------------------------+-------------------+\n",
      "|        Russia|     1.707264588949771E9| -4.780702743902438|\n",
      "| United States|    1.5359203697698061E9|  8.603572522159556|\n",
      "|         China|     8.803365430384827E8|  6.633572616136923|\n",
      "|       Ukraine|    4.5287547420273983E8|  8.359509146341466|\n",
      "|       Germany|    3.9308062706753135E8|   8.18554135338346|\n",
      "|         Japan|     3.916217583245286E8| 12.044405606407336|\n",
      "|United Kingdom|     2.866108890654614E8|  8.491605346912797|\n",
      "|        Africa|    2.2951465119022903E8| 24.074202745512142|\n",
      "|    Kazakhstan|    2.0364140171643832E8|  6.092664634146341|\n",
      "|   South Korea|    1.9273392581134537E8| 12.320580097087385|\n",
      "+--------------+------------------------+-------------------+"
     ]
    }
   ],
   "source": [
    "spark.sql(\"\"\"\n",
    "    SELECT \n",
    "        e.entity AS country,\n",
    "        AVG(e.annual_emissions) AS average_annual_emissions,\n",
    "        AVG(t.averagetemperature) AS average_temperature\n",
    "    FROM \n",
    "        co2_emissions e\n",
    "    JOIN \n",
    "        land_temperature_by_country t ON e.entity = t.country\n",
    "        AND e.year = YEAR(t.dt)\n",
    "    GROUP BY \n",
    "        e.entity\n",
    "    ORDER BY \n",
    "        average_annual_emissions DESC\n",
    "    LIMIT 10\n",
    "\"\"\").show()\n"
   ]
  },
  {
   "cell_type": "code",
   "execution_count": 22,
   "id": "323f02bc",
   "metadata": {},
   "outputs": [
    {
     "data": {
      "application/vnd.jupyter.widget-view+json": {
       "model_id": "",
       "version_major": 2,
       "version_minor": 0
      },
      "text/plain": [
       "FloatProgress(value=0.0, bar_style='info', description='Progress:', layout=Layout(height='25px', width='50%'),…"
      ]
     },
     "metadata": {},
     "output_type": "display_data"
    },
    {
     "name": "stdout",
     "output_type": "stream",
     "text": [
      "+--------------------+------------------------+-------------------+\n",
      "|             country|average_annual_emissions|average_temperature|\n",
      "+--------------------+------------------------+-------------------+\n",
      "|                Niue|       5066.788571428571|  25.53457824427482|\n",
      "|          Montserrat|      25665.700483091787| 26.893069354838705|\n",
      "|            Kiribati|      30822.748815165876| 27.113939873417713|\n",
      "|            Dominica|       52960.12749003984|  26.58603590425531|\n",
      "|               Tonga|       53465.66274509804|  23.57704581151832|\n",
      "|             Comoros|       63643.17808219178| 26.080251524390256|\n",
      "|British Virgin Is...|       70023.11111111111| 26.839830917874394|\n",
      "|               Samoa|        86757.7725490196|  26.64870026178009|\n",
      "|    Christmas Island|       95002.28571428571| 26.078083333333336|\n",
      "|             Grenada|       97433.66274509804|  27.21324214659685|\n",
      "+--------------------+------------------------+-------------------+"
     ]
    }
   ],
   "source": [
    "spark.sql(\"\"\"\n",
    "    SELECT \n",
    "        e.entity AS country,\n",
    "        AVG(e.annual_emissions) AS average_annual_emissions,\n",
    "        AVG(t.averagetemperature) AS average_temperature\n",
    "    FROM \n",
    "        co2_emissions e\n",
    "    JOIN \n",
    "        land_temperature_by_country t ON e.entity = t.country\n",
    "        AND e.year = YEAR(t.dt)\n",
    "    GROUP BY \n",
    "        e.entity\n",
    "    ORDER BY \n",
    "        average_annual_emissions ASC\n",
    "    LIMIT 10\n",
    "\"\"\").show()"
   ]
  },
  {
   "cell_type": "code",
   "execution_count": 23,
   "id": "8ada12c2",
   "metadata": {},
   "outputs": [
    {
     "data": {
      "application/vnd.jupyter.widget-view+json": {
       "model_id": "",
       "version_major": 2,
       "version_minor": 0
      },
      "text/plain": [
       "FloatProgress(value=0.0, bar_style='info', description='Progress:', layout=Layout(height='25px', width='50%'),…"
      ]
     },
     "metadata": {},
     "output_type": "display_data"
    },
    {
     "name": "stdout",
     "output_type": "stream",
     "text": [
      "+--------------------+------------------------+-------------------+\n",
      "|             country|average_annual_emissions|average_temperature|\n",
      "+--------------------+------------------------+-------------------+\n",
      "|            Djibouti|      250946.14623529412|  29.08503010471205|\n",
      "|                Mali|      489513.27963470324| 28.887868902439013|\n",
      "|        Burkina Faso|        674113.411121076| 28.505038922155702|\n",
      "|             Senegal|       3060232.469315069| 28.429446646341457|\n",
      "|               Aruba|      1285447.9788127844| 28.397669207317072|\n",
      "|United Arab Emirates|     5.865182379470314E7|  28.21140091463415|\n",
      "|          Mauritania|       969136.3652968036| 28.097749999999994|\n",
      "|              Gambia|      152451.13725490196|  27.90632722513089|\n",
      "|               Niger|       622252.2440807172|  27.83997455089821|\n",
      "|               Palau|       166984.8510638298|  27.56056107954545|\n",
      "+--------------------+------------------------+-------------------+"
     ]
    }
   ],
   "source": [
    "spark.sql(\"\"\"\n",
    "    SELECT \n",
    "        e.entity AS country,\n",
    "        AVG(e.annual_emissions) AS average_annual_emissions,\n",
    "        AVG(t.averagetemperature) AS average_temperature\n",
    "    FROM \n",
    "        co2_emissions e\n",
    "    JOIN \n",
    "        land_temperature_by_country t ON e.entity = t.country\n",
    "        AND e.year = YEAR(t.dt)\n",
    "    GROUP BY \n",
    "        e.entity\n",
    "    ORDER BY \n",
    "        average_temperature DESC\n",
    "    LIMIT 10\n",
    "\"\"\").show()"
   ]
  },
  {
   "cell_type": "code",
   "execution_count": 24,
   "id": "4c03fa78",
   "metadata": {},
   "outputs": [
    {
     "data": {
      "application/vnd.jupyter.widget-view+json": {
       "model_id": "",
       "version_major": 2,
       "version_minor": 0
      },
      "text/plain": [
       "FloatProgress(value=0.0, bar_style='info', description='Progress:', layout=Layout(height='25px', width='50%'),…"
      ]
     },
     "metadata": {},
     "output_type": "display_data"
    },
    {
     "name": "stdout",
     "output_type": "stream",
     "text": [
      "+----------+------------------------+--------------------+\n",
      "|   country|average_annual_emissions| average_temperature|\n",
      "+----------+------------------------+--------------------+\n",
      "| Greenland|       438429.9294117647|  -18.08948429319372|\n",
      "|   Denmark|    2.2469639783587106E7|  -18.00078564453125|\n",
      "|    Canada|    1.2899122241300535E8|  -5.200034411276948|\n",
      "|    Russia|     1.707264588949771E9|  -4.780702743902438|\n",
      "|  Mongolia|       6697050.589333335|-0.12026439790575907|\n",
      "|    Norway|    1.3186810988514446E7| 0.18958486238532102|\n",
      "|   Finland|    1.8644064125252023E7|  1.4474734273318874|\n",
      "|   Iceland|      1694371.3012709017|  1.8720033482142853|\n",
      "|    Sweden|     2.661082450093886E7|   2.514483396584439|\n",
      "|Kyrgyzstan|        6422252.76057471|   4.392888461538462|\n",
      "+----------+------------------------+--------------------+"
     ]
    }
   ],
   "source": [
    "spark.sql(\"\"\"\n",
    "    SELECT \n",
    "        e.entity AS country,\n",
    "        AVG(e.annual_emissions) AS average_annual_emissions,\n",
    "        AVG(t.averagetemperature) AS average_temperature\n",
    "    FROM \n",
    "        co2_emissions e\n",
    "    JOIN \n",
    "        land_temperature_by_country t ON e.entity = t.country\n",
    "        AND e.year = YEAR(t.dt)\n",
    "    GROUP BY \n",
    "        e.entity\n",
    "    ORDER BY \n",
    "        average_temperature ASC\n",
    "    LIMIT 10\n",
    "\"\"\").show()"
   ]
  },
  {
   "cell_type": "code",
   "execution_count": null,
   "id": "f3c82432",
   "metadata": {},
   "outputs": [],
   "source": []
  }
 ],
 "metadata": {
  "kernelspec": {
   "display_name": "PySpark",
   "language": "python",
   "name": "pysparkkernel"
  },
  "language_info": {
   "codemirror_mode": {
    "name": "python",
    "version": 3
   },
   "file_extension": ".py",
   "mimetype": "text/x-python",
   "name": "pyspark",
   "pygments_lexer": "python3"
  }
 },
 "nbformat": 4,
 "nbformat_minor": 5
}
