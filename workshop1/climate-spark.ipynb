{
 "cells": [
  {
   "cell_type": "code",
   "execution_count": 1,
   "id": "c2ba8322",
   "metadata": {},
   "outputs": [
    {
     "name": "stdout",
     "output_type": "stream",
     "text": [
      "Starting Spark application\n"
     ]
    },
    {
     "data": {
      "text/html": [
       "<table>\n",
       "<tr><th>ID</th><th>YARN Application ID</th><th>Kind</th><th>State</th><th>Spark UI</th><th>Driver log</th><th>User</th><th>Current session?</th></tr><tr><td>0</td><td>application_1709499088405_0004</td><td>pyspark</td><td>idle</td><td><a target=\"_blank\" href=\"http://ip-172-31-88-180.ec2.internal:20888/proxy/application_1709499088405_0004/\">Link</a></td><td><a target=\"_blank\" href=\"http://ip-172-31-91-138.ec2.internal:8042/node/containerlogs/container_1709499088405_0004_01_000001/livy\">Link</a></td><td>None</td><td>✔</td></tr></table>"
      ],
      "text/plain": [
       "<IPython.core.display.HTML object>"
      ]
     },
     "metadata": {},
     "output_type": "display_data"
    },
    {
     "data": {
      "application/vnd.jupyter.widget-view+json": {
       "model_id": "",
       "version_major": 2,
       "version_minor": 0
      },
      "text/plain": [
       "FloatProgress(value=0.0, bar_style='info', description='Progress:', layout=Layout(height='25px', width='50%'),…"
      ]
     },
     "metadata": {},
     "output_type": "display_data"
    },
    {
     "name": "stdout",
     "output_type": "stream",
     "text": [
      "SparkSession available as 'spark'.\n"
     ]
    },
    {
     "data": {
      "application/vnd.jupyter.widget-view+json": {
       "model_id": "",
       "version_major": 2,
       "version_minor": 0
      },
      "text/plain": [
       "FloatProgress(value=0.0, bar_style='info', description='Progress:', layout=Layout(height='25px', width='50%'),…"
      ]
     },
     "metadata": {},
     "output_type": "display_data"
    },
    {
     "name": "stdout",
     "output_type": "stream",
     "text": [
      "<pyspark.sql.session.SparkSession object at 0x7ff7d1622bd0>"
     ]
    }
   ],
   "source": [
    "spark"
   ]
  },
  {
   "cell_type": "code",
   "execution_count": 2,
   "id": "cdbae221",
   "metadata": {},
   "outputs": [
    {
     "data": {
      "application/vnd.jupyter.widget-view+json": {
       "model_id": "",
       "version_major": 2,
       "version_minor": 0
      },
      "text/plain": [
       "FloatProgress(value=0.0, bar_style='info', description='Progress:', layout=Layout(height='25px', width='50%'),…"
      ]
     },
     "metadata": {},
     "output_type": "display_data"
    },
    {
     "name": "stdout",
     "output_type": "stream",
     "text": [
      "<SparkContext master=yarn appName=livy-session-0>"
     ]
    }
   ],
   "source": [
    "sc"
   ]
  },
  {
   "cell_type": "code",
   "execution_count": 3,
   "id": "4d48c879",
   "metadata": {},
   "outputs": [
    {
     "data": {
      "application/vnd.jupyter.widget-view+json": {
       "model_id": "",
       "version_major": 2,
       "version_minor": 0
      },
      "text/plain": [
       "FloatProgress(value=0.0, bar_style='info', description='Progress:', layout=Layout(height='25px', width='50%'),…"
      ]
     },
     "metadata": {},
     "output_type": "display_data"
    }
   ],
   "source": [
    "from pyspark.sql import SparkSession\n",
    "\n",
    "spark = SparkSession.builder.appName(\"ClimateSparkApp\").getOrCreate()"
   ]
  },
  {
   "cell_type": "code",
   "execution_count": 7,
   "id": "0ece427c",
   "metadata": {},
   "outputs": [
    {
     "data": {
      "application/vnd.jupyter.widget-view+json": {
       "model_id": "",
       "version_major": 2,
       "version_minor": 0
      },
      "text/plain": [
       "FloatProgress(value=0.0, bar_style='info', description='Progress:', layout=Layout(height='25px', width='50%'),…"
      ]
     },
     "metadata": {},
     "output_type": "display_data"
    },
    {
     "name": "stdout",
     "output_type": "stream",
     "text": [
      "+-----------+----+----+----------------+\n",
      "|     entity|code|year|annual_emissions|\n",
      "+-----------+----+----+----------------+\n",
      "|Afghanistan| AFG|1949|           14656|\n",
      "|Afghanistan| AFG|1950|           84272|\n",
      "|Afghanistan| AFG|1951|           91600|\n",
      "|Afghanistan| AFG|1952|           91600|\n",
      "|Afghanistan| AFG|1953|          106256|\n",
      "|Afghanistan| AFG|1954|          106256|\n",
      "|Afghanistan| AFG|1955|          153888|\n",
      "|Afghanistan| AFG|1956|          183200|\n",
      "|Afghanistan| AFG|1957|          293120|\n",
      "|Afghanistan| AFG|1958|          329760|\n",
      "|Afghanistan| AFG|1959|       384571.42|\n",
      "|Afghanistan| AFG|1960|       413883.42|\n",
      "|Afghanistan| AFG|1961|        490797.7|\n",
      "|Afghanistan| AFG|1962|       688594.27|\n",
      "|Afghanistan| AFG|1963|       706735.98|\n",
      "|Afghanistan| AFG|1964|       838550.83|\n",
      "|Afghanistan| AFG|1965|      1006916.53|\n",
      "|Afghanistan| AFG|1966|      1091158.82|\n",
      "|Afghanistan| AFG|1967|      1281865.11|\n",
      "|Afghanistan| AFG|1968|      1223389.69|\n",
      "+-----------+----+----+----------------+\n",
      "only showing top 20 rows\n",
      "\n",
      "+----------+-------------------+-----------------------------+-------+\n",
      "|        dt| AverageTemperature|AverageTemperatureUncertainty|Country|\n",
      "+----------+-------------------+-----------------------------+-------+\n",
      "|1743-11-01| 4.3839999999999995|                        2.294|  Åland|\n",
      "|1743-12-01|               null|                         null|  Åland|\n",
      "|1744-01-01|               null|                         null|  Åland|\n",
      "|1744-02-01|               null|                         null|  Åland|\n",
      "|1744-03-01|               null|                         null|  Åland|\n",
      "|1744-04-01|               1.53|                         4.68|  Åland|\n",
      "|1744-05-01|  6.702000000000001|                        1.789|  Åland|\n",
      "|1744-06-01| 11.609000000000002|                        1.577|  Åland|\n",
      "|1744-07-01|             15.342|                         1.41|  Åland|\n",
      "|1744-08-01|               null|                         null|  Åland|\n",
      "|1744-09-01|             11.702|                        1.517|  Åland|\n",
      "|1744-10-01|              5.477|                        1.862|  Åland|\n",
      "|1744-11-01|              3.407|                        1.425|  Åland|\n",
      "|1744-12-01|             -2.181|                        1.641|  Åland|\n",
      "|1745-01-01|              -3.85|                        1.841|  Åland|\n",
      "|1745-02-01| -6.574999999999998|                         1.36|  Åland|\n",
      "|1745-03-01|             -4.195|                        1.213|  Åland|\n",
      "|1745-04-01|-0.9660000000000002|                        1.172|  Åland|\n",
      "|1745-05-01|               null|                         null|  Åland|\n",
      "|1745-06-01|               null|                         null|  Åland|\n",
      "+----------+-------------------+-----------------------------+-------+\n",
      "only showing top 20 rows"
     ]
    }
   ],
   "source": [
    "df_emissions = spark.read.option(\"header\", \"true\").csv(\"s3://spulido1lab1/co2_emissions/co2_emission.csv\")\n",
    "df_temperature = spark.read.option(\"header\", \"true\").csv(\"s3://spulido1lab1/land-temperature-by-country/GlobalLandTemperaturesByCountry.csv\")\n",
    "\n",
    "df_emissions.show()\n",
    "df_temperature.show()"
   ]
  },
  {
   "cell_type": "code",
   "execution_count": 12,
   "id": "574db9ff",
   "metadata": {},
   "outputs": [
    {
     "data": {
      "application/vnd.jupyter.widget-view+json": {
       "model_id": "",
       "version_major": 2,
       "version_minor": 0
      },
      "text/plain": [
       "FloatProgress(value=0.0, bar_style='info', description='Progress:', layout=Layout(height='25px', width='50%'),…"
      ]
     },
     "metadata": {},
     "output_type": "display_data"
    },
    {
     "name": "stdout",
     "output_type": "stream",
     "text": [
      "+----+--------------------+\n",
      "|year|     total_emissions|\n",
      "+----+--------------------+\n",
      "|2017|   8.947275082983E10|\n",
      "|2016|8.824961753229005E10|\n",
      "|2015|8.768654789835999E10|\n",
      "|2014|8.762096132615002E10|\n",
      "|2013|8.700744654957999E10|\n",
      "|2012|8.665079532765002E10|\n",
      "|2011|8.524360993775002E10|\n",
      "|2010|8.238109186037001E10|\n",
      "|2008|7.990947993998001E10|\n",
      "|2009|7.867301490757996E10|\n",
      "+----+--------------------+"
     ]
    }
   ],
   "source": [
    "from pyspark.sql import functions as F\n",
    "\n",
    "top_years_emissions = df_emissions.groupBy(\"year\") \\\n",
    "                        .agg(F.sum(\"annual_emissions\") \\\n",
    "                        .alias(\"total_emissions\")) \\\n",
    "                        .orderBy(F.desc(\"total_emissions\")) \\\n",
    "                        .limit(10)\n",
    "\n",
    "\n",
    "top_years_emissions.show()"
   ]
  },
  {
   "cell_type": "code",
   "execution_count": 14,
   "id": "66fb26e4",
   "metadata": {},
   "outputs": [
    {
     "data": {
      "application/vnd.jupyter.widget-view+json": {
       "model_id": "",
       "version_major": 2,
       "version_minor": 0
      },
      "text/plain": [
       "FloatProgress(value=0.0, bar_style='info', description='Progress:', layout=Layout(height='25px', width='50%'),…"
      ]
     },
     "metadata": {},
     "output_type": "display_data"
    },
    {
     "name": "stdout",
     "output_type": "stream",
     "text": [
      "+--------------------+-------------------+\n",
      "|             Country|average_temperature|\n",
      "+--------------------+-------------------+\n",
      "|            Djibouti| 28.816602533172542|\n",
      "|                Mali| 28.441976570819996|\n",
      "|        Burkina Faso| 28.083506760410998|\n",
      "|             Senegal|  27.96737499999997|\n",
      "|               Aruba|  27.92039022051774|\n",
      "|United Arab Emirates| 27.693994700582884|\n",
      "|          Mauritania| 27.620255504352293|\n",
      "|              Gambia| 27.538551816239316|\n",
      "|               Niger| 27.458972540045757|\n",
      "|             Curaçao| 27.353414669223397|\n",
      "+--------------------+-------------------+"
     ]
    }
   ],
   "source": [
    "hottest_countries_all_years = df_temperature.groupBy(\"Country\") \\\n",
    "    .agg(F.avg(\"AverageTemperature\").alias(\"average_temperature\")) \\\n",
    "    .orderBy(F.desc(\"average_temperature\")).limit(10)\n",
    "\n",
    "\n",
    "hottest_countries_all_years.show()"
   ]
  },
  {
   "cell_type": "code",
   "execution_count": 15,
   "id": "2738e16c",
   "metadata": {},
   "outputs": [
    {
     "data": {
      "application/vnd.jupyter.widget-view+json": {
       "model_id": "",
       "version_major": 2,
       "version_minor": 0
      },
      "text/plain": [
       "FloatProgress(value=0.0, bar_style='info', description='Progress:', layout=Layout(height='25px', width='50%'),…"
      ]
     },
     "metadata": {},
     "output_type": "display_data"
    },
    {
     "name": "stdout",
     "output_type": "stream",
     "text": [
      "+----+-------------------+\n",
      "|year|average_temperature|\n",
      "+----+-------------------+\n",
      "|2013| 19.877007153806858|\n",
      "|2010| 19.629806129476588|\n",
      "|2007|  19.61039428374656|\n",
      "|1998| 19.596783057851248|\n",
      "|2002| 19.565523415977967|\n",
      "|2009|  19.54638533057848|\n",
      "|2006|   19.5391349862259|\n",
      "|2003|   19.5250867768595|\n",
      "|2005| 19.499590220385706|\n",
      "|2012|   19.4687441460055|\n",
      "+----+-------------------+"
     ]
    }
   ],
   "source": [
    "hottest_years = df_temperature.withColumn(\"year\", F.year(F.to_date(\"dt\", \"yyyy-MM-dd\"))) \\\n",
    "    .groupBy(\"year\") \\\n",
    "    .agg(F.avg(\"AverageTemperature\").alias(\"average_temperature\")) \\\n",
    "    .orderBy(F.desc(\"average_temperature\")) \\\n",
    "    .limit(10)\n",
    "\n",
    "\n",
    "hottest_years.show()"
   ]
  },
  {
   "cell_type": "code",
   "execution_count": 18,
   "id": "0b499eab",
   "metadata": {},
   "outputs": [
    {
     "data": {
      "application/vnd.jupyter.widget-view+json": {
       "model_id": "",
       "version_major": 2,
       "version_minor": 0
      },
      "text/plain": [
       "FloatProgress(value=0.0, bar_style='info', description='Progress:', layout=Layout(height='25px', width='50%'),…"
      ]
     },
     "metadata": {},
     "output_type": "display_data"
    },
    {
     "name": "stdout",
     "output_type": "stream",
     "text": [
      "+--------------------+------------------------+\n",
      "|              entity|average_annual_emissions|\n",
      "+--------------------+------------------------+\n",
      "|               World|     5.899791376895131E9|\n",
      "|              Russia|    1.7049000668898306E9|\n",
      "|       United States|    1.4957990314644194E9|\n",
      "|               EU-28|     1.321566501059925E9|\n",
      "|               China|     7.879389530948819E8|\n",
      "|Asia and Pacific ...|     6.668811690486891E8|\n",
      "|      Europe (other)|     5.900381650936329E8|\n",
      "|             Ukraine|    4.3722688639152545E8|\n",
      "|               Japan|    4.1536405464533335E8|\n",
      "|             Germany|    4.0073287623141575E8|\n",
      "+--------------------+------------------------+"
     ]
    }
   ],
   "source": [
    "countries_with_highest_avg_emissions = df_emissions.groupBy(\"entity\") \\\n",
    "    .agg(F.avg(\"annual_emissions\").alias(\"average_annual_emissions\")) \\\n",
    "    .orderBy(F.desc(\"average_annual_emissions\")).limit(10)\n",
    "\n",
    "\n",
    "countries_with_highest_avg_emissions.show()"
   ]
  },
  {
   "cell_type": "code",
   "execution_count": 19,
   "id": "f70e1832",
   "metadata": {},
   "outputs": [
    {
     "data": {
      "application/vnd.jupyter.widget-view+json": {
       "model_id": "",
       "version_major": 2,
       "version_minor": 0
      },
      "text/plain": [
       "FloatProgress(value=0.0, bar_style='info', description='Progress:', layout=Layout(height='25px', width='50%'),…"
      ]
     },
     "metadata": {},
     "output_type": "display_data"
    },
    {
     "name": "stdout",
     "output_type": "stream",
     "text": [
      "+--------------+------------------------+--------------+-------------------+\n",
      "|        entity|average_annual_emissions|       Country|average_temperature|\n",
      "+--------------+------------------------+--------------+-------------------+\n",
      "|        Russia|    1.7049000668898306E9|        Russia| -5.521881912681911|\n",
      "| United States|    1.4957990314644194E9| United States|  8.603572522159553|\n",
      "|         China|     7.879389530948819E8|         China|  6.612731031349375|\n",
      "|       Ukraine|    4.3722688639152545E8|       Ukraine|  7.653507264687312|\n",
      "|         Japan|    4.1536405464533335E8|         Japan|  11.95190733590733|\n",
      "|       Germany|    4.0073287623141575E8|       Germany|  8.152496209728362|\n",
      "|United Kingdom|    2.8865563913258433E8|United Kingdom|  8.489325331648798|\n",
      "|   South Korea|    2.1625504422643837E8|   South Korea| 11.849048745173732|\n",
      "|    Kazakhstan|    2.0848503211864406E8|    Kazakhstan|  5.202144758735442|\n",
      "|         India|    1.8967915343945312E8|         India|  23.87378947368426|\n",
      "+--------------+------------------------+--------------+-------------------+"
     ]
    }
   ],
   "source": [
    "avg_emissions = df_emissions.groupBy(\"entity\") \\\n",
    "    .agg(F.avg(\"annual_emissions\").alias(\"average_annual_emissions\"))\n",
    "\n",
    "\n",
    "avg_temperature = df_temperature.groupBy(\"Country\") \\\n",
    "    .agg(F.avg(\"AverageTemperature\").alias(\"average_temperature\"))\n",
    "\n",
    "\n",
    "countries_with_highest_avg_emissions_and_temp = avg_emissions \\\n",
    "    .join(avg_temperature, avg_emissions.entity == avg_temperature.Country) \\\n",
    "    .orderBy(F.desc(\"average_annual_emissions\")) \\\n",
    "    .limit(10)\n",
    "\n",
    "countries_with_highest_avg_emissions_and_temp.show()"
   ]
  },
  {
   "cell_type": "code",
   "execution_count": null,
   "id": "a7cb86fd",
   "metadata": {},
   "outputs": [],
   "source": []
  }
 ],
 "metadata": {
  "kernelspec": {
   "display_name": "PySpark",
   "language": "python",
   "name": "pysparkkernel"
  },
  "language_info": {
   "codemirror_mode": {
    "name": "python",
    "version": 3
   },
   "file_extension": ".py",
   "mimetype": "text/x-python",
   "name": "pyspark",
   "pygments_lexer": "python3"
  }
 },
 "nbformat": 4,
 "nbformat_minor": 5
}
